{
 "cells": [
  {
   "cell_type": "code",
   "execution_count": 1,
   "id": "e9169970",
   "metadata": {},
   "outputs": [],
   "source": [
    "#import random module\n",
    "import random"
   ]
  },
  {
   "cell_type": "code",
   "execution_count": 2,
   "id": "7729e5f1",
   "metadata": {},
   "outputs": [
    {
     "data": {
      "text/plain": [
       "-40"
      ]
     },
     "execution_count": 2,
     "metadata": {},
     "output_type": "execute_result"
    }
   ],
   "source": [
    "random.randint(-90,90)"
   ]
  },
  {
   "cell_type": "code",
   "execution_count": 3,
   "id": "129e0a20",
   "metadata": {},
   "outputs": [
    {
     "data": {
      "text/plain": [
       "0.9073464827740111"
      ]
     },
     "execution_count": 3,
     "metadata": {},
     "output_type": "execute_result"
    }
   ],
   "source": [
    "random.random()"
   ]
  },
  {
   "cell_type": "code",
   "execution_count": 4,
   "id": "3128be89",
   "metadata": {},
   "outputs": [
    {
     "data": {
      "text/plain": [
       "-23.40509390859119"
      ]
     },
     "execution_count": 4,
     "metadata": {},
     "output_type": "execute_result"
    }
   ],
   "source": [
    "#combine radomint and random\n",
    "random_number = random.randint(-90,89)+random.random()\n",
    "random_number"
   ]
  },
  {
   "cell_type": "code",
   "execution_count": 5,
   "id": "515a16ce",
   "metadata": {},
   "outputs": [],
   "source": [
    "#alg to generate lattitude\n",
    "#Assign the variable x to 1.\n",
    "x = 1\n",
    "\n",
    "#Initialize an empty list, latitudes.\n",
    "latitudes = []\n",
    "\n",
    "#We create a while loop where we generate a random latitude and add it to the list.\n",
    "while x< 11:\n",
    "    random_lat = random.randint(-90, 89) + random.random()\n",
    "    latitudes.append(random_lat)\n",
    "\n",
    "    #After the random latitude is added to the list we add one to the variable \"x\".    \n",
    "    x+=1\n",
    "\n",
    "#The while loop condition is checked again and will continue to run as long as x is less than 11"
   ]
  },
  {
   "cell_type": "code",
   "execution_count": 6,
   "id": "411b0ef8",
   "metadata": {},
   "outputs": [
    {
     "data": {
      "text/plain": [
       "[56.3621555178321,\n",
       " -74.02426585340457,\n",
       " 49.17512466147241,\n",
       " 20.576584973028293,\n",
       " -69.66975314439902,\n",
       " -58.34657083016164,\n",
       " 49.92667904933827,\n",
       " -3.717455565650795,\n",
       " 18.580244623857762,\n",
       " -39.66126775564279]"
      ]
     },
     "execution_count": 6,
     "metadata": {},
     "output_type": "execute_result"
    }
   ],
   "source": [
    "latitudes"
   ]
  },
  {
   "cell_type": "code",
   "execution_count": 7,
   "id": "2f4a6af9",
   "metadata": {},
   "outputs": [
    {
     "data": {
      "text/plain": [
       "84"
      ]
     },
     "execution_count": 7,
     "metadata": {},
     "output_type": "execute_result"
    }
   ],
   "source": [
    "random.randrange(-90, 90, step = 3)"
   ]
  },
  {
   "cell_type": "code",
   "execution_count": 8,
   "id": "cd1ca260",
   "metadata": {},
   "outputs": [
    {
     "data": {
      "text/plain": [
       "-77.4711211066843"
      ]
     },
     "execution_count": 8,
     "metadata": {},
     "output_type": "execute_result"
    }
   ],
   "source": [
    "random.uniform(-90, 90)"
   ]
  },
  {
   "cell_type": "code",
   "execution_count": 9,
   "id": "fca0b989",
   "metadata": {},
   "outputs": [],
   "source": [
    "#import NumPy\n",
    "import numpy as np"
   ]
  },
  {
   "cell_type": "code",
   "execution_count": 10,
   "id": "b41e3a8b",
   "metadata": {},
   "outputs": [
    {
     "data": {
      "text/plain": [
       "-73.5618274702304"
      ]
     },
     "execution_count": 10,
     "metadata": {},
     "output_type": "execute_result"
    }
   ],
   "source": [
    "np.random.uniform(-90.000, 90.000)"
   ]
  },
  {
   "cell_type": "code",
   "execution_count": 11,
   "id": "efbee5cd",
   "metadata": {},
   "outputs": [
    {
     "data": {
      "text/plain": [
       "90.0"
      ]
     },
     "execution_count": 11,
     "metadata": {},
     "output_type": "execute_result"
    }
   ],
   "source": [
    "np.random.uniform(low = 90, high = 90)"
   ]
  },
  {
   "cell_type": "code",
   "execution_count": 12,
   "id": "75ed6d39",
   "metadata": {},
   "outputs": [
    {
     "data": {
      "text/plain": [
       "array([-40.42046315,  21.4493875 ,  25.64085145, -32.66248905,\n",
       "        -8.56779688, -51.50999152, -61.90246917,   2.08325264,\n",
       "        -1.5194127 ,  34.73883873, -69.46501506, -57.30357863,\n",
       "       -11.10636206,   9.50161152, -55.42609825, -25.32807467,\n",
       "        29.781229  , -71.49332114,   6.39801276, -23.10046912,\n",
       "       -71.55960768,  88.72755687,  53.00087545,  80.73273033,\n",
       "        23.02441145,  72.36067232,  19.94563769,   6.38631125,\n",
       "        40.98878577,  72.77847764, -74.79273828,  86.29284509,\n",
       "        71.54430535,  26.97668194, -38.09181003,  57.29874018,\n",
       "        41.11711368, -84.46953734,   8.73407176, -48.14618085,\n",
       "       -43.79856767,  -5.47023026, -10.70307213, -53.53705316,\n",
       "        16.67080388,  14.91780439,  51.1660364 , -23.74554413,\n",
       "       -14.65271313, -62.32367242])"
      ]
     },
     "execution_count": 12,
     "metadata": {},
     "output_type": "execute_result"
    }
   ],
   "source": [
    "# add size parameter to generate more than 1 floating pt number\n",
    "np.random.uniform(-90.000, 90.000, size = 50)"
   ]
  },
  {
   "cell_type": "code",
   "execution_count": 13,
   "id": "b1f91975",
   "metadata": {},
   "outputs": [],
   "source": [
    "#import timeit to see how long it takes to run code\n",
    "import timeit"
   ]
  },
  {
   "cell_type": "code",
   "execution_count": 14,
   "id": "4d6e9ab5",
   "metadata": {},
   "outputs": [
    {
     "name": "stdout",
     "output_type": "stream",
     "text": [
      "12.9 µs ± 380 ns per loop (mean ± std. dev. of 7 runs, 100000 loops each)\n"
     ]
    }
   ],
   "source": [
    "%timeit np.random.uniform(-90.000, 90.000, size = 1500)"
   ]
  },
  {
   "cell_type": "code",
   "execution_count": 15,
   "id": "833a368b",
   "metadata": {},
   "outputs": [
    {
     "name": "stdout",
     "output_type": "stream",
     "text": [
      "1.36 ms ± 34 µs per loop (mean ± std. dev. of 7 runs, 1000 loops each)\n"
     ]
    }
   ],
   "source": [
    "#run the while loop with timeit\n",
    "\n",
    "def latitudes(size):\n",
    "    latitudes = []\n",
    "    x = 0\n",
    "    while x < (size):\n",
    "        random_lat = random.randint(-90, 90) + random.random()\n",
    "        latitudes.append(random_lat)\n",
    "        x += 1\n",
    "    return latitudes\n",
    "# Call the function with 1500.\n",
    "%timeit latitudes(1500)"
   ]
  },
  {
   "cell_type": "code",
   "execution_count": 16,
   "id": "0b5f7e25",
   "metadata": {},
   "outputs": [
    {
     "ename": "ModuleNotFoundError",
     "evalue": "No module named 'citipy'",
     "output_type": "error",
     "traceback": [
      "\u001b[0;31m---------------------------------------------------------------------------\u001b[0m",
      "\u001b[0;31mModuleNotFoundError\u001b[0m                       Traceback (most recent call last)",
      "\u001b[0;32m/var/folders/2m/7j4czxfs6ql7_54cdkwpdvk40000gn/T/ipykernel_21558/2282275016.py\u001b[0m in \u001b[0;36m<module>\u001b[0;34m\u001b[0m\n\u001b[0;32m----> 1\u001b[0;31m \u001b[0;32mfrom\u001b[0m \u001b[0mcitipy\u001b[0m \u001b[0;32mimport\u001b[0m \u001b[0mcitipy\u001b[0m\u001b[0;34m\u001b[0m\u001b[0;34m\u001b[0m\u001b[0m\n\u001b[0m",
      "\u001b[0;31mModuleNotFoundError\u001b[0m: No module named 'citipy'"
     ]
    }
   ],
   "source": [
    "from citipy import citipy"
   ]
  },
  {
   "cell_type": "code",
   "execution_count": null,
   "id": "25aa9d3b",
   "metadata": {},
   "outputs": [],
   "source": [
    "# create a list to hold cities\n",
    "cities = []\n",
    "\n",
    "#identify the nearest city for each lat and long combo\n",
    "\n",
    "for coordinate in coordinates:\n",
    "    city = cipipy.nearest_city(coordinate[0], coordinate[1]).city_name\n",
    "    #if city is unique we add to the list\n",
    "    if not in cities:\n",
    "            cities.append(city)\n",
    "#print city\n",
    "len(cities)"
   ]
  }
 ],
 "metadata": {
  "kernelspec": {
   "display_name": "PythonData",
   "language": "python",
   "name": "pythondata"
  },
  "language_info": {
   "codemirror_mode": {
    "name": "ipython",
    "version": 3
   },
   "file_extension": ".py",
   "mimetype": "text/x-python",
   "name": "python",
   "nbconvert_exporter": "python",
   "pygments_lexer": "ipython3",
   "version": "3.9.7"
  }
 },
 "nbformat": 4,
 "nbformat_minor": 5
}
