{
 "cells": [
  {
   "cell_type": "code",
   "execution_count": 3,
   "id": "86e8956c",
   "metadata": {},
   "outputs": [],
   "source": [
    "#import dependencies\n",
    "import pandas as pd\n",
    "import numpy as np\n",
    "from citipy import citipy\n",
    "import time\n",
    "from datetime import datetime\n",
    "#import request library\n",
    "import requests\n",
    "\n",
    "#import api key\n",
    "from config import weather_api_key"
   ]
  },
  {
   "cell_type": "code",
   "execution_count": 4,
   "id": "e136d0ef",
   "metadata": {},
   "outputs": [
    {
     "data": {
      "text/plain": [
       "<zip at 0x7fd7207970f0>"
      ]
     },
     "execution_count": 4,
     "metadata": {},
     "output_type": "execute_result"
    }
   ],
   "source": [
    "#create variables for lat and longitute\n",
    "#latitude in lists using np\n",
    "lats = np.random.uniform(low=-90.000, high=90.000, size=2000)\n",
    "#longitude\n",
    "lngs = np.random.uniform(low=-180.000, high=180.000, size=2000)\n",
    "#create zip files for the output\n",
    "lat_lngs = zip(lats, lngs)\n",
    "lat_lngs"
   ]
  },
  {
   "cell_type": "code",
   "execution_count": 5,
   "id": "9c452b79",
   "metadata": {},
   "outputs": [],
   "source": [
    "#unpack the zip and create coordiate variable\n",
    "coordinates = list(lat_lngs)"
   ]
  },
  {
   "cell_type": "code",
   "execution_count": 16,
   "id": "1a7283dc",
   "metadata": {},
   "outputs": [
    {
     "data": {
      "text/plain": [
       "781"
      ]
     },
     "execution_count": 16,
     "metadata": {},
     "output_type": "execute_result"
    }
   ],
   "source": [
    "# intialize empty list to hold cities\n",
    "cities = []\n",
    "\n",
    "#create a loop to fill list:\n",
    "for coordinate in coordinates:\n",
    "    city = citipy.nearest_city(coordinate[0], coordinate[1]).city_name\n",
    "\n",
    "    # If the city is unique, then we will add it to the cities list.\n",
    "    if city not in cities:\n",
    "        cities.append(city)\n",
    "# Print the city count to confirm sufficient count.\n",
    "len(cities)"
   ]
  },
  {
   "cell_type": "code",
   "execution_count": 18,
   "id": "9b7224d8",
   "metadata": {},
   "outputs": [],
   "source": [
    "#test url call- url call works\n",
    "url = \"http://api.openweathermap.org/data/2.5/weather?units=Imperial&APPID=\" + weather_api_key\n",
    "\n"
   ]
  },
  {
   "cell_type": "code",
   "execution_count": 22,
   "id": "9502dee6",
   "metadata": {},
   "outputs": [],
   "source": [
    "# Parse the JSON and retrieve data.\n",
    "city_url = url + \"&q=\" + city.replace(\" \",\"+\")\n",
    "city_weather = requests.get(city_url).json()"
   ]
  },
  {
   "cell_type": "code",
   "execution_count": 26,
   "id": "c528f9d4",
   "metadata": {},
   "outputs": [
    {
     "ename": "SyntaxError",
     "evalue": "invalid syntax (34674683.py, line 3)",
     "output_type": "error",
     "traceback": [
      "\u001b[0;36m  File \u001b[0;32m\"/var/folders/2m/7j4czxfs6ql7_54cdkwpdvk40000gn/T/ipykernel_69167/34674683.py\"\u001b[0;36m, line \u001b[0;32m3\u001b[0m\n\u001b[0;31m    weathr_now = requests.get(city_url).json().['weather']\u001b[0m\n\u001b[0m                                               ^\u001b[0m\n\u001b[0;31mSyntaxError\u001b[0m\u001b[0;31m:\u001b[0m invalid syntax\n"
     ]
    }
   ],
   "source": [
    "#create current weather list\n",
    "weather_now = []\n",
    "weathr_now = requests.get(city_url).json().['weather']\n",
    "current_weather = weather_now['description']"
   ]
  },
  {
   "cell_type": "code",
   "execution_count": null,
   "id": "c7db96cc",
   "metadata": {},
   "outputs": [],
   "source": []
  }
 ],
 "metadata": {
  "kernelspec": {
   "display_name": "PythonData",
   "language": "python",
   "name": "pythondata"
  },
  "language_info": {
   "codemirror_mode": {
    "name": "ipython",
    "version": 3
   },
   "file_extension": ".py",
   "mimetype": "text/x-python",
   "name": "python",
   "nbconvert_exporter": "python",
   "pygments_lexer": "ipython3",
   "version": "3.7.11"
  }
 },
 "nbformat": 4,
 "nbformat_minor": 5
}
